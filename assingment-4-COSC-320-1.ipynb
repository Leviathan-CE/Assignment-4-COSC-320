{
 "cells": [
  {
   "cell_type": "markdown",
   "metadata": {},
   "source": [
    "## Question 3 \n",
    "\n",
    "with each cut costing c thus the maximum dollar value becomes sm of the pieces minus the number of cuts. if we use p = sum of the pieces. x = number of cuts and c = cost of those cuts then we are looking for the folowing: \n",
    "$$p-xc = TotalCost$$\n",
    "to do this we take the existing Memoized-Cut-Rod(p,n) algorithm and just need to find were the cuts are made and add another memoization to track the cuts as we go. \n",
    "\n",
    "the number of time lets say for aexample problem of prices being [1,5,8,9,10,17,17,20,24,30]\n",
    "are resulting memoized number of cuts for each length then should be a continueational sum of the optimzed solution prevoius to it.\n",
    "\n",
    "meaning we should get the following if done by hand:\n",
    "[0,0,0,1,2,0,0,1,0,0]\n",
    "\n",
    "from the clr text given us a example of when cuts are made:\n",
    "note: hoever in r18 has 2 solutions and when considering that we are trying to minimze the number of cuts made this entry 1 +6 has 0 cut will be used and same goes for other occuracnes \n",
    "for use to produce the optimal price including the cut cost.\n",
    "\n",
    "r1 = 1 from solution 1 = 1 (no cuts) ;\n",
    "r2 = 5 from solution 2 = 2 (no cuts) ;\n",
    "r3 = 8 from solution 3 = 3 (no cuts) ;\n",
    "r4 = 10 from solution 4 = 2 + 2 ;\n",
    "r5 = 13 from solution 5 = 2 + 3 ;\n",
    "r6 = 17 from solution 6 = 6 (no cuts) ;\n",
    "r7 = 18 from solution 7 = 1 + 6 or 7 = 2 + 2 + 3 ;\n",
    "r8 = 22 from solution 8 = 2 + 6 ;\n",
    "r9 = 25 from solution 9 = 3 + 6 ;\n",
    "r10 = 30 from solution 10 = 10 (no cuts) :"
   ]
  },
  {
   "cell_type": "markdown",
   "metadata": {},
   "source": [
    "## Question 4"
   ]
  },
  {
   "cell_type": "code",
   "execution_count": null,
   "metadata": {},
   "outputs": [],
   "source": []
  },
  {
   "cell_type": "code",
   "execution_count": 72,
   "metadata": {},
   "outputs": [],
   "source": [
    "def memoized_cut_rod(prices:list,n:int):\n",
    "    price_index = [float('-inf')]*(n+1)\n",
    "    optimal_cut_index = [0]*(n+1)\n",
    "    best_price = memoized_cut_rod_aux(prices,n,price_index,optimal_cut_index)\n",
    "    return (best_price, price_index)\n",
    "\n",
    "def memoized_cut_rod_aux(prices:list,n:int,price_index:list,optimal_cut_index):\n",
    "    if price_index[n] >= 0:\n",
    "        return price_index[n]\n",
    "    if n == 0:\n",
    "        best_price = 0\n",
    "    else:\n",
    "        best_price = float('-inf')\n",
    "        for i in range(0,n):\n",
    "\n",
    "            #print(f\"{best_price} : {i} : {price_index} : {n} : {optimal_cut_index}\")\n",
    "            \n",
    "            cut = prices[i]+memoized_cut_rod_aux(prices, n-i-1, price_index, optimal_cut_index)            \n",
    "            best_price = max(best_price,cut)\n",
    "            #print(f\"i={i} : cut={cut} : p[i]={prices[n-i-1]} : q={best_price}\")\n",
    "            if cut < best_price:# and optimal_cut_index[n] == 0: #this is the hard part when ever the cut value  is the max then thier is a cuit but thats isn't enough.\n",
    "                optimal_cut_index[n-1] = i\n",
    "            \n",
    "\n",
    "\n",
    "    \n",
    "    \n",
    "    #print(f\"{best_price} chosen\")       \n",
    "    price_index[n] = best_price\n",
    "    #print(f\"new {best_price} : {price_index} : {n} : {optimal_cut_index}\")\n",
    "    return best_price"
   ]
  },
  {
   "cell_type": "code",
   "execution_count": 83,
   "metadata": {},
   "outputs": [],
   "source": [
    "def extended_bottum_up(p,n):\n",
    "    r = [0]*n\n",
    "    s = [0]*n\n",
    "    r[0]=0\n",
    "    for j in range (1,n):\n",
    "        q = float('-inf')\n",
    "        for i in range(1,j):\n",
    "            if q < p[i]+r[j-i]:\n",
    "                print(\"i\")\n",
    "                q = p[i]+r[j-i]\n",
    "                s[j]=i\n",
    "        print(q)        \n",
    "        r[j]=q\n",
    "    return (r,s)"
   ]
  },
  {
   "cell_type": "code",
   "execution_count": 84,
   "metadata": {},
   "outputs": [
    {
     "name": "stdout",
     "output_type": "stream",
     "text": [
      "-inf\n",
      "-inf\n",
      "-inf\n",
      "-inf\n",
      "-inf\n",
      "-inf\n",
      "-inf\n",
      "-inf\n",
      "-inf\n",
      "-inf\n",
      "([0, -inf, -inf, -inf, -inf, -inf, -inf, -inf, -inf, -inf, -inf], [0, 0, 0, 0, 0, 0, 0, 0, 0, 0, 0])\n"
     ]
    }
   ],
   "source": [
    "prices_per_inch = [1, 5, 8, 9, 10, 17, 17, 20,\n",
    "                   24,30]  # [1, 5, 8, 9, 10, 17, 17, 20]\n",
    "rod_len = [1,2,3,4,5,6,7,8,9,10]\n",
    "print(extended_bottum_up(prices_per_inch, len(prices_per_inch)+1))\n",
    "optimal_prices = memoized_cut_rod(prices_per_inch,len(prices_per_inch))[1]\n",
    "# n =len(optimal_prices)\n",
    "\n",
    "# while n > 0:        \n",
    "#         print(optimal_prices[n-1])\n",
    "#         n = n-optimal_prices[n-1]\n",
    "# print(optimal_prices)"
   ]
  },
  {
   "cell_type": "code",
   "execution_count": 293,
   "metadata": {},
   "outputs": [
    {
     "name": "stdout",
     "output_type": "stream",
     "text": [
      "Maximum Obtainable Value is 25\n"
     ]
    }
   ],
   "source": [
    "\n",
    "# A Naive recursive solution\n",
    "# for Rod cutting problem\n",
    "import sys\n",
    "\n",
    "# A utility function to get the\n",
    "# maximum of two integers\n",
    "\n",
    "\n",
    "def max(a, b):\n",
    "    return a if (a > b) else b\n",
    "\n",
    "# Returns the best obtainable price for a rod of length n\n",
    "# and price[] as prices of different pieces\n",
    "\n",
    "\n",
    "def cutRod(price, n):\n",
    "    if (n <= 0):\n",
    "        return 0\n",
    "    max_val = -sys.maxsize-1\n",
    "\n",
    "    # Recursively cut the rod in different pieces\n",
    "    # and compare different configurations\n",
    "    for i in range(0, n):\n",
    "        max_val = max(max_val, price[i] +\n",
    "                      cutRod(price, n - i - 1))\n",
    "    return max_val\n",
    "\n",
    "\n",
    "# Driver code\n",
    "arr = [1, 5, 8, 9, 10, 17, 17, 20, 24]  # [1, 5, 8, 9, 10, 17, 17, 20]\n",
    "size = len(arr)\n",
    "print(\"Maximum Obtainable Value is\", cutRod(arr, size))"
   ]
  }
 ],
 "metadata": {
  "kernelspec": {
   "display_name": "M3",
   "language": "python",
   "name": "python3"
  },
  "language_info": {
   "codemirror_mode": {
    "name": "ipython",
    "version": 3
   },
   "file_extension": ".py",
   "mimetype": "text/x-python",
   "name": "python",
   "nbconvert_exporter": "python",
   "pygments_lexer": "ipython3",
   "version": "3.11.7"
  }
 },
 "nbformat": 4,
 "nbformat_minor": 2
}
